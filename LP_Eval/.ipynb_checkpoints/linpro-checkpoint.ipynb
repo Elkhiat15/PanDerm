{
 "cells": [
  {
   "cell_type": "code",
   "execution_count": 1,
   "metadata": {},
   "outputs": [
    {
     "name": "stderr",
     "output_type": "stream",
     "text": [
      "/home/syyan/anaconda3/envs/fm_eval/lib/python3.10/site-packages/tqdm/auto.py:21: TqdmWarning: IProgress not found. Please update jupyter and ipywidgets. See https://ipywidgets.readthedocs.io/en/stable/user_install.html\n",
      "  from .autonotebook import tqdm as notebook_tqdm\n"
     ]
    },
    {
     "ename": "TypeError",
     "evalue": "get_encoder() takes 1 positional argument but 2 were given",
     "output_type": "error",
     "traceback": [
      "\u001b[0;31m---------------------------------------------------------------------------\u001b[0m",
      "\u001b[0;31mTypeError\u001b[0m                                 Traceback (most recent call last)",
      "Cell \u001b[0;32mIn[1], line 20\u001b[0m\n\u001b[1;32m     18\u001b[0m \u001b[38;5;28;01mfrom\u001b[39;00m \u001b[38;5;21;01mmodels\u001b[39;00m \u001b[38;5;28;01mimport\u001b[39;00m get_encoder\n\u001b[1;32m     19\u001b[0m models\u001b[38;5;241m=\u001b[39m[\u001b[38;5;124m'\u001b[39m\u001b[38;5;124mMILAN_SKIN\u001b[39m\u001b[38;5;124m'\u001b[39m,\u001b[38;5;124m'\u001b[39m\u001b[38;5;124mMILAN\u001b[39m\u001b[38;5;124m'\u001b[39m,\u001b[38;5;124m'\u001b[39m\u001b[38;5;124mCAE_large\u001b[39m\u001b[38;5;124m'\u001b[39m,\u001b[38;5;124m'\u001b[39m\u001b[38;5;124mimgnet_large21k\u001b[39m\u001b[38;5;124m'\u001b[39m,\u001b[38;5;124m'\u001b[39m\u001b[38;5;124mresnet50_trunc\u001b[39m\u001b[38;5;124m'\u001b[39m,\u001b[38;5;124m'\u001b[39m\u001b[38;5;124mSwAVDerm\u001b[39m\u001b[38;5;124m'\u001b[39m,\u001b[38;5;124m'\u001b[39m\u001b[38;5;124mclip_large\u001b[39m\u001b[38;5;124m'\u001b[39m,\u001b[38;5;124m'\u001b[39m\u001b[38;5;124mclip_base\u001b[39m\u001b[38;5;124m'\u001b[39m]\n\u001b[0;32m---> 20\u001b[0m model, transform \u001b[38;5;241m=\u001b[39m \u001b[43mget_encoder\u001b[49m\u001b[43m(\u001b[49m\u001b[38;5;124;43m'\u001b[39;49m\u001b[38;5;124;43mMILAN_SKIN\u001b[39;49m\u001b[38;5;124;43m'\u001b[39;49m\u001b[43m,\u001b[49m\u001b[38;5;124;43m'\u001b[39;49m\u001b[38;5;124;43mimagenet\u001b[39;49m\u001b[38;5;124;43m'\u001b[39;49m\u001b[43m)\u001b[49m\n\u001b[1;32m     21\u001b[0m _ \u001b[38;5;241m=\u001b[39m model\u001b[38;5;241m.\u001b[39meval()\n\u001b[1;32m     22\u001b[0m model \u001b[38;5;241m=\u001b[39m model\u001b[38;5;241m.\u001b[39mto(device)\n",
      "\u001b[0;31mTypeError\u001b[0m: get_encoder() takes 1 positional argument but 2 were given"
     ]
    }
   ],
   "source": [
    "import torch\n",
    "import torchvision\n",
    "import os\n",
    "from os.path import join as j_\n",
    "from PIL import Image\n",
    "import pandas as pd\n",
    "import numpy as np\n",
    "from datasets.uni_data import Uni_Dataset\n",
    "import torchvision.transforms as transforms\n",
    "# loading all packages here to start\n",
    "#from uni import get_encoder\n",
    "from uni.downstream.extract_patch_features import extract_patch_features_from_dataloader\n",
    "from uni.downstream.eval_patch_features.linear_probe import eval_linear_probe\n",
    "from uni.downstream.eval_patch_features.fewshot import eval_knn, eval_fewshot\n",
    "from uni.downstream.eval_patch_features.metrics import get_eval_metrics, print_metrics\n",
    "from uni.downstream.utils import concat_images\n",
    "device = torch.device(\"cuda\" if torch.cuda.is_available() else \"cpu\")\n",
    "from models import get_encoder\n",
    "models=['MILAN_SKIN','MILAN','CAE_large','imgnet_large21k','resnet50_trunc','SwAVDerm','clip_large','clip_base']\n",
    "model, transform = get_encoder('MILAN_SKIN')\n",
    "_ = model.eval()\n",
    "model = model.to(device)"
   ]
  },
  {
   "cell_type": "code",
   "execution_count": null,
   "metadata": {},
   "outputs": [],
   "source": [
    "def get_args_parser():\n",
    "    parser.add_argument('--csv_path', default=None, type=str,\n",
    "                        help='csv file path')\n",
    "    parser.add_argument('--root_path', default=None, type=str,\n",
    "                        help='image root path')\n",
    "    parser.add_argument('--percent_data', default=1.0, type=float)\n",
    "    parser.add_argument('--nb_classes', default=1000, type=int,\n",
    "                        help='number of the classification types')\n",
    "    return parser\n",
    "args = get_args_parser()\n",
    "args = args.parse_args()"
   ]
  },
  {
   "cell_type": "code",
   "execution_count": null,
   "metadata": {},
   "outputs": [],
   "source": [
    "if args.nb_classes == 2:\n",
    "        binary = True\n",
    "    else:\n",
    "        binary = False\n",
    "    df = pd.read_csv(args.csv_path)\n",
    "    dataset_train = Uni_Dataset(df=df,\n",
    "                                root=args.root_path,\n",
    "                                train=True,\n",
    "                                transforms=data_transforms['train'],\n",
    "                                binary=binary,\n",
    "                                data_percent=args.percent_data)\n",
    "    dataset_val = Uni_Dataset(df=df,\n",
    "                              root=args.root_path,\n",
    "                              val=True,\n",
    "                              transforms=data_transforms['val'],\n",
    "                              binary=binary)\n",
    "    dataset_test = Uni_Dataset(df=df,\n",
    "                               root=args.root_path,\n",
    "                               test=True,\n",
    "                               transforms=data_transforms['test'],\n",
    "                               binary=binary)\n",
    "    print('train size:', len(dataset_train), ',val size:', len(dataset_val), ',test size:', len(dataset_test))"
   ]
  },
  {
   "cell_type": "code",
   "execution_count": 2,
   "metadata": {},
   "outputs": [
    {
     "name": "stderr",
     "output_type": "stream",
     "text": [
      "  0%|          | 0/110 [00:00<?, ?it/s]/home/litao/anaconda3/envs/clam_latest/lib/python3.10/site-packages/torch/functional.py:507: UserWarning: torch.meshgrid: in an upcoming release, it will be required to pass the indexing argument. (Triggered internally at ../aten/src/ATen/native/TensorShape.cpp:3549.)\n",
      "  return _VF.meshgrid(tensors, **kwargs)  # type: ignore[attr-defined]\n",
      "100%|██████████| 110/110 [04:38<00:00,  2.54s/it]\n",
      "100%|██████████| 49/49 [02:06<00:00,  2.59s/it]"
     ]
    },
    {
     "name": "stdout",
     "output_type": "stream",
     "text": [
      "Took 406.138 seconds\n"
     ]
    },
    {
     "name": "stderr",
     "output_type": "stream",
     "text": [
      "\n"
     ]
    }
   ],
   "source": [
    "import time\n",
    "from uni.downstream.extract_patch_features import extract_patch_features_from_dataloader\n",
    "\n",
    "# get path to example data\n",
    "start = time.time()\n",
    "train_dataroot = './data_for_linpro/for_linpro_Test'\n",
    "test_dataroot = './data_for_linpro/for_linpro_Validation'\n",
    "\n",
    "# create some image folder datasets for train/test and their data laoders\n",
    "train_dataset = torchvision.datasets.ImageFolder(train_dataroot, transform=transform)\n",
    "test_dataset = torchvision.datasets.ImageFolder(test_dataroot, transform=transform)\n",
    "train_dataloader = torch.utils.data.DataLoader(train_dataset, batch_size=256, shuffle=False, num_workers=8)\n",
    "test_dataloader = torch.utils.data.DataLoader(test_dataset, batch_size=256, shuffle=False, num_workers=8)\n",
    "\n",
    "# extract patch features from the train and test datasets (returns dictionary of embeddings and labels)\n",
    "train_features = extract_patch_features_from_dataloader(model, train_dataloader)\n",
    "test_features = extract_patch_features_from_dataloader(model, test_dataloader)\n",
    "\n",
    "# convert these to torch\n",
    "train_feats = torch.Tensor(train_features['embeddings'])\n",
    "train_labels = torch.Tensor(train_features['labels']).type(torch.long)\n",
    "test_feats = torch.Tensor(test_features['embeddings'])\n",
    "test_labels = torch.Tensor(test_features['labels']).type(torch.long)\n",
    "elapsed = time.time() - start\n",
    "print(f'Took {elapsed:.03f} seconds')"
   ]
  },
  {
   "cell_type": "markdown",
   "metadata": {},
   "source": [
    "### ROI Linear Probe Evaluation."
   ]
  },
  {
   "cell_type": "code",
   "execution_count": 3,
   "metadata": {},
   "outputs": [
    {
     "name": "stdout",
     "output_type": "stream",
     "text": [
      "Linear Probe Evaluation: Train shape torch.Size([28039, 1024])\n",
      "Linear Probe Evaluation: Test shape torch.Size([12354, 1024])\n",
      "Linear Probe Evaluation (Train Time): Best cost = 163.840\n",
      "Linear Probe Evaluation (Train Time): Using only train set for evaluation. Train Shape:  torch.Size([28039, 1024])\n",
      "0\n",
      "(Before Training) Loss: 3.022\n",
      "(After Training) Loss: 0.109\n",
      "Linear Probe Evaluation (Test Time): Test Shape torch.Size([12354, 1024])\n",
      "Linear Probe Evaluation: Time taken 3.70\n",
      "Test lin_acc: 0.873482\n",
      "Test lin_bacc: 0.841480\n",
      "Test lin_kappa: 0.909003\n",
      "Test lin_weighted_f1: 0.875922\n",
      "Test lin_auroc: 0.993022\n",
      "Linear Probe Evaluation: Train shape torch.Size([28039, 1024])\n",
      "Linear Probe Evaluation: Test shape torch.Size([12354, 1024])\n",
      "Linear Probe Evaluation (Train Time): Best cost = 163.840\n",
      "Linear Probe Evaluation (Train Time): Using only train set for evaluation. Train Shape:  torch.Size([28039, 1024])\n",
      "1\n",
      "(Before Training) Loss: 2.910\n",
      "(After Training) Loss: 0.109\n",
      "Linear Probe Evaluation (Test Time): Test Shape torch.Size([12354, 1024])\n",
      "Linear Probe Evaluation: Time taken 3.31\n",
      "Test lin_acc: 0.873401\n",
      "Test lin_bacc: 0.841223\n",
      "Test lin_kappa: 0.908945\n",
      "Test lin_weighted_f1: 0.875874\n",
      "Test lin_auroc: 0.993022\n",
      "Linear Probe Evaluation: Train shape torch.Size([28039, 1024])\n",
      "Linear Probe Evaluation: Test shape torch.Size([12354, 1024])\n",
      "Linear Probe Evaluation (Train Time): Best cost = 163.840\n",
      "Linear Probe Evaluation (Train Time): Using only train set for evaluation. Train Shape:  torch.Size([28039, 1024])\n",
      "2\n",
      "(Before Training) Loss: 2.894\n",
      "(After Training) Loss: 0.109\n",
      "Linear Probe Evaluation (Test Time): Test Shape torch.Size([12354, 1024])\n",
      "Linear Probe Evaluation: Time taken 3.36\n",
      "Test lin_acc: 0.873320\n",
      "Test lin_bacc: 0.841172\n",
      "Test lin_kappa: 0.908817\n",
      "Test lin_weighted_f1: 0.875765\n",
      "Test lin_auroc: 0.993019\n",
      "Linear Probe Evaluation: Train shape torch.Size([28039, 1024])\n",
      "Linear Probe Evaluation: Test shape torch.Size([12354, 1024])\n",
      "Linear Probe Evaluation (Train Time): Best cost = 163.840\n",
      "Linear Probe Evaluation (Train Time): Using only train set for evaluation. Train Shape:  torch.Size([28039, 1024])\n",
      "3\n",
      "(Before Training) Loss: 2.778\n",
      "(After Training) Loss: 0.109\n",
      "Linear Probe Evaluation (Test Time): Test Shape torch.Size([12354, 1024])\n",
      "Linear Probe Evaluation: Time taken 3.44\n",
      "Test lin_acc: 0.873401\n",
      "Test lin_bacc: 0.841241\n",
      "Test lin_kappa: 0.908819\n",
      "Test lin_weighted_f1: 0.875845\n",
      "Test lin_auroc: 0.993022\n",
      "Linear Probe Evaluation: Train shape torch.Size([28039, 1024])\n",
      "Linear Probe Evaluation: Test shape torch.Size([12354, 1024])\n",
      "Linear Probe Evaluation (Train Time): Best cost = 163.840\n",
      "Linear Probe Evaluation (Train Time): Using only train set for evaluation. Train Shape:  torch.Size([28039, 1024])\n",
      "4\n",
      "(Before Training) Loss: 2.785\n",
      "(After Training) Loss: 0.109\n",
      "Linear Probe Evaluation (Test Time): Test Shape torch.Size([12354, 1024])\n",
      "Linear Probe Evaluation: Time taken 3.65\n",
      "Test lin_acc: 0.873320\n",
      "Test lin_bacc: 0.841172\n",
      "Test lin_kappa: 0.908817\n",
      "Test lin_weighted_f1: 0.875765\n",
      "Test lin_auroc: 0.993023\n"
     ]
    }
   ],
   "source": [
    "from uni.downstream.eval_patch_features.linear_probe import eval_linear_probe\n",
    "\n",
    "for i in range(5):\n",
    "    linprobe_eval_metrics, linprobe_dump = eval_linear_probe(\n",
    "        train_feats = train_feats,\n",
    "        train_labels = train_labels,\n",
    "        valid_feats = None ,\n",
    "        valid_labels = None,\n",
    "        test_feats = test_feats,\n",
    "        test_labels = test_labels,\n",
    "        max_iter = 1000,\n",
    "        verbose= True, seed = i\n",
    "    )\n",
    "\n",
    "    print_metrics(linprobe_eval_metrics)"
   ]
  }
 ],
 "metadata": {
  "kernelspec": {
   "display_name": "fm_eval",
   "language": "python",
   "name": "fm_eval"
  },
  "language_info": {
   "codemirror_mode": {
    "name": "ipython",
    "version": 3
   },
   "file_extension": ".py",
   "mimetype": "text/x-python",
   "name": "python",
   "nbconvert_exporter": "python",
   "pygments_lexer": "ipython3",
   "version": "3.10.14"
  }
 },
 "nbformat": 4,
 "nbformat_minor": 4
}
